{
 "cells": [
  {
   "cell_type": "code",
   "execution_count": 1,
   "metadata": {},
   "outputs": [],
   "source": [
    "import numpy as np\n",
    "\n",
    "from dftpy.constants import ENERGY_CONV\n",
    "from edftpy import io\n",
    "from edftpy.functional import LocalPP, KEDF, Hartree, XC\n",
    "from edftpy.optimizer import Optimization\n",
    "from edftpy.evaluator import EmbedEvaluator, TotalEvaluator\n",
    "from edftpy.subsystem.subcell import SubCell, GlobalCell\n",
    "from edftpy.interface import init_graphtopo\n",
    "from edftpy.mpi import MP, sprint\n",
    "from edftpy.engine.driver import DriverKS\n",
    "from edftpy.engine.engine_qe import EngineQE\n",
    "from edftpy.utils.common import Field, Functional, AbsFunctional"
   ]
  },
  {
   "cell_type": "code",
   "execution_count": 2,
   "metadata": {
    "code_folding": []
   },
   "outputs": [],
   "source": [
    "def get_optimizer(cellfile, subkeys, indices):\n",
    "    #-----------------------------------------------------------------------\n",
    "    pplist = {'H' : './H_ONCV_PBE-1.2.upf', 'O' : './O_ONCV_PBE-1.2.upf'}\n",
    "    ecut = 1200*ENERGY_CONV[\"eV\"][\"Hartree\"]\n",
    "    cellsplit = [0.5, 0.5, 0.5]\n",
    "    #-----------------------------------------------------------------------\n",
    "    ions = io.ase_read(cellfile)\n",
    "    graphtopo = get_graphtopo([1,]*len(subkeys), parallel = True)\n",
    "    gsystem = get_gsystem(ions, graphtopo, pplist, ecut)\n",
    "    drivers = []\n",
    "    for i, keysys in enumerate(subkeys):\n",
    "        if graphtopo.isub != i and graphtopo.is_mpi:\n",
    "            driver = None\n",
    "        else :\n",
    "            index = indices[i]\n",
    "            driver = get_driver(keysys, ions, gsystem.grid, pplist, index, cellsplit, graphtopo)\n",
    "        drivers.append(driver)\n",
    "\n",
    "    graphtopo.build_region(grid=gsystem.grid, drivers=drivers)\n",
    "    opt = Optimization(drivers = drivers, gsystem = gsystem, options={'econv': 1E-6*ions.nat})\n",
    "    return opt"
   ]
  },
  {
   "cell_type": "code",
   "execution_count": 3,
   "metadata": {
    "code_folding": [
     0
    ]
   },
   "outputs": [],
   "source": [
    "def get_gsystem(ions, graphtopo, pplist, ecut):\n",
    "    mp_global = MP(comm = graphtopo.comm, parallel = graphtopo.is_mpi, decomposition = graphtopo.decomposition)\n",
    "    gsystem = GlobalCell(ions, ecut = ecut, mp = mp_global, graphtopo = graphtopo)\n",
    "    total_evaluator = get_total_evaluator(ions, gsystem.grid, pplist)\n",
    "    gsystem.total_evaluator = total_evaluator\n",
    "    return gsystem"
   ]
  },
  {
   "cell_type": "code",
   "execution_count": 4,
   "metadata": {
    "code_folding": [
     0
    ]
   },
   "outputs": [],
   "source": [
    "def get_graphtopo(nprocs, parallel = False):\n",
    "    graphtopo = init_graphtopo(parallel)\n",
    "    graphtopo.distribute_procs(nprocs)\n",
    "    return graphtopo"
   ]
  },
  {
   "cell_type": "code",
   "execution_count": 5,
   "metadata": {
    "code_folding": [
     0
    ]
   },
   "outputs": [],
   "source": [
    "def ext_functional(density,**kwargs):\n",
    "    factor = (3.0 / 10.0) * (5.0 / 3.0) * (3.0 * np.pi ** 2) ** (2.0 / 3.0)\n",
    "    potential = factor * np.cbrt(density* density)\n",
    "    energy=(potential*density).sum()*density.grid.dV*3.0/5.0\n",
    "    obj = Functional(name = 'EXT0', energy=energy, potential=potential)\n",
    "    return obj"
   ]
  },
  {
   "cell_type": "code",
   "execution_count": 6,
   "metadata": {
    "code_folding": [
     0
    ]
   },
   "outputs": [],
   "source": [
    "class ExtFunctional(object):\n",
    "    def __init__(self, vext=None, **kwargs):\n",
    "        self.vext=vext\n",
    "        \n",
    "    def __call__(self, density, **kwargs):\n",
    "        potential=self.vext\n",
    "        energy=(potential*density).sum()*density.grid.dV\n",
    "        obj = Functional(name = 'EXT1', energy=energy, potential=potential)\n",
    "        return obj"
   ]
  },
  {
   "cell_type": "code",
   "execution_count": 7,
   "metadata": {
    "code_folding": [
     0
    ]
   },
   "outputs": [],
   "source": [
    "def get_total_evaluator(ions, grid, pplist):\n",
    "    xc_kwargs = {'xc' : 'PBE'}\n",
    "    ke_kwargs = {'kedf' : 'GGA', 'k_str' : 'revAPBEK'}\n",
    "    pseudo = LocalPP(grid = grid, ions=ions, PP_list=pplist)\n",
    "    hartree = Hartree()\n",
    "    xc = XC(**xc_kwargs)\n",
    "    ke = KEDF(**ke_kwargs)\n",
    "    funcdicts = {'XC' :xc, 'HARTREE' :hartree, 'PSEUDO' :pseudo, 'KE' :ke, 'EXT0': ext_functional}\n",
    "    total_evaluator = TotalEvaluator(**funcdicts)\n",
    "    return total_evaluator"
   ]
  },
  {
   "cell_type": "code",
   "execution_count": 8,
   "metadata": {
    "code_folding": [
     0
    ]
   },
   "outputs": [],
   "source": [
    "def get_embed_evaluator(subcell):\n",
    "    xc_kwargs = {'xc' : 'PBE'}\n",
    "    ke_kwargs = {'kedf' : 'GGA', 'k_str' : 'revAPBEK'}\n",
    "    xc = XC(**xc_kwargs)\n",
    "    ke = KEDF(**ke_kwargs)\n",
    "    # External Potential--------------------------------------------\n",
    "    vext = Field(grid=subcell.grid)\n",
    "    vext[:]= -1E-6\n",
    "    extobj = ExtFunctional(vext)\n",
    "    #---------------------------------------------------------------\n",
    "    emb_funcdicts = {'XC' :xc, 'KE' :ke, 'EXT0': ext_functional, 'EXT1': extobj}\n",
    "    embed_evaluator = EmbedEvaluator(**emb_funcdicts)\n",
    "    return embed_evaluator"
   ]
  },
  {
   "cell_type": "code",
   "execution_count": 9,
   "metadata": {
    "code_folding": []
   },
   "outputs": [],
   "source": [
    "def get_driver(prefix, ions, grid, pplist, index, cellsplit, graphtopo):\n",
    "    mp = MP(comm = graphtopo.comm_sub, decomposition = graphtopo.decomposition)\n",
    "    subcell = SubCell(ions, grid, index = index, cellsplit = cellsplit, mp = mp)\n",
    "    # given a negative value which means will get from driver\n",
    "    subcell.density[:] = -1.0\n",
    "    embed_evaluator = get_embed_evaluator(subcell)\n",
    "    cell_params = {'pseudopotentials' : pplist}\n",
    "    params = {'system' : {'ecutwfc' : 600*ENERGY_CONV[\"eV\"][\"Hartree\"]*2}}\n",
    "    margs= {\n",
    "            'evaluator' : embed_evaluator,\n",
    "            'prefix' : prefix,\n",
    "            'subcell' : subcell,\n",
    "            'cell_params': cell_params,\n",
    "            'params': params,\n",
    "            'exttype' : 3, # 3 is XC embedded, 7 is without XC\n",
    "            'mixer' : 0.7\n",
    "            }\n",
    "    engine = EngineQE()\n",
    "    driver = DriverKS(engine = engine, **margs)\n",
    "    return driver"
   ]
  },
  {
   "cell_type": "code",
   "execution_count": 10,
   "metadata": {},
   "outputs": [
    {
     "name": "stdout",
     "output_type": "stream",
     "text": [
      "********************************************************************************\n",
      "Parallel version (MPI) on        1 processors\n",
      "eDFTpy Version : 0.0.1\n",
      " DFTpy Version : 0.0.2\n",
      "********************************************************************************\n",
      "GlobalCell grid [72 72 72]\n",
      "setting key: H -> ./H_ONCV_PBE-1.2.upf\n",
      "setting key: O -> ./O_ONCV_PBE-1.2.upf\n"
     ]
    }
   ],
   "source": [
    "# cellfile = 'h2o_2.xyz'\n",
    "# subkeys = ['sub_ks_0', 'sub_ks_1']\n",
    "# indices = [[0, 1, 2], [3, 4, 5]]\n",
    "cellfile = 'h2o_1.xyz'\n",
    "subkeys = ['sub_ks_0']\n",
    "indices = [[0, 1, 2]]\n",
    "opt = get_optimizer(cellfile, subkeys, indices)"
   ]
  },
  {
   "cell_type": "code",
   "execution_count": 11,
   "metadata": {},
   "outputs": [],
   "source": [
    "def print_density(opt=opt):\n",
    "    n=opt.gsystem.density.integral()\n",
    "    if opt.gsystem.graphtopo.comm.rank==0:\n",
    "        print('**Charge of global system: {}'.format(n))"
   ]
  },
  {
   "cell_type": "code",
   "execution_count": 12,
   "metadata": {},
   "outputs": [],
   "source": [
    "def print_density_driver_all(opt=opt):\n",
    "    for isub, driver in enumerate(opt.drivers):\n",
    "        if driver is None: continue\n",
    "        if driver.comm.rank==0:\n",
    "            n=driver.density.integral()\n",
    "            print('****Charge of driver {} is : {}'.format(isub,n))"
   ]
  },
  {
   "cell_type": "code",
   "execution_count": 13,
   "metadata": {},
   "outputs": [],
   "source": [
    "def print_ext_energy(opt=opt, isub=0):\n",
    "    driver=opt.drivers[isub]\n",
    "    if driver is None: return\n",
    "    if driver.comm.rank==0:\n",
    "        energy=ext_functional(driver.density).energy\n",
    "        print('******Ext energy of {} driver : {}'.format(isub,energy))"
   ]
  },
  {
   "cell_type": "code",
   "execution_count": 14,
   "metadata": {},
   "outputs": [
    {
     "name": "stdout",
     "output_type": "stream",
     "text": [
      "Begin optimize\n",
      "Optimization options :\n",
      "{'econv': 3e-06,\n",
      " 'maxiter': 80,\n",
      " 'maxtime': 0,\n",
      " 'ncheck': 2,\n",
      " 'olevel': 2,\n",
      " 'pconv': 3.0000000000000004e-08,\n",
      " 'pconv_sub': array([3.e-08]),\n",
      " 'sdft': 'sdft'}\n",
      "Update density : 8.000000000000004\n",
      "          Step    Energy(a.u.)            dE              dP        dC        Time(s)         \n",
      "**Charge of global system: 8.000000000000004\n",
      "****Charge of driver 0 is : 7.9999999999999885\n",
      "******Ext energy of 0 driver : 9.358214438136557\n",
      "**Charge of global system: 8.000000000000004\n",
      "******Ext energy of 0 driver : 10.26557518549203\n",
      "Norm of reidual density : \n",
      "[0.00346538]\n",
      "Energy of reidual density : \n",
      "[0.32330905]\n",
      "----------------------------------------------------------------------------------------------------\n",
      "   Embed: 1       8.177912587980E+00      8.177913E+00    3.23E-01  3.47E-03  5.544879E-01    \n",
      "----------------------------------------------------------------------------------------------------\n",
      "**Charge of global system: 8.000000000000005\n",
      "****Charge of driver 0 is : 8.000000000000002\n",
      "******Ext energy of 0 driver : 9.706544296194366\n",
      "Norm of reidual density : \n",
      "[0.00421118]\n",
      "Energy of reidual density : \n",
      "[0.04898533]\n",
      "----------------------------------------------------------------------------------------------------\n",
      "   Embed: 2       1.201982953319E+01      3.841917E+00    4.90E-02  4.21E-03  9.304886E-01    \n",
      "----------------------------------------------------------------------------------------------------\n",
      "**Charge of global system: 8.000000000000007\n",
      "******Ext energy of 0 driver : 10.169465874833834\n",
      "Norm of reidual density : \n",
      "[0.00085606]\n",
      "Energy of reidual density : \n",
      "[0.00301456]\n",
      "----------------------------------------------------------------------------------------------------\n",
      "   Embed: 3       1.160239429286E+01      -4.174352E-01   3.01E-03  8.56E-04  1.269835E+00    \n",
      "----------------------------------------------------------------------------------------------------\n",
      "**Charge of global system: 8.000000000000005\n",
      "****Charge of driver 0 is : 8.000000000000014\n",
      "******Ext energy of 0 driver : 10.078654404723002\n",
      "Norm of reidual density : \n",
      "[7.25794941e-05]\n",
      "Energy of reidual density : \n",
      "[3.84497159e-05]\n",
      "----------------------------------------------------------------------------------------------------\n",
      "   Embed: 4       1.194526340482E+01      3.428691E-01    3.84E-05  7.26E-05  1.630927E+00    \n",
      "----------------------------------------------------------------------------------------------------\n",
      "**Charge of global system: 8.000000000000007\n",
      "******Ext energy of 0 driver : 10.087029518981431\n",
      "Norm of reidual density : \n",
      "[1.95676391e-05]\n",
      "Energy of reidual density : \n",
      "[1.51769641e-06]\n",
      "----------------------------------------------------------------------------------------------------\n",
      "   Embed: 5       1.191056076698E+01      -3.470264E-02   1.52E-06  1.96E-05  1.906428E+00    \n",
      "----------------------------------------------------------------------------------------------------\n",
      "**Charge of global system: 8.000000000000005\n",
      "****Charge of driver 0 is : 8.000000000000005\n",
      "******Ext energy of 0 driver : 10.09002993480776\n",
      "Norm of reidual density : \n",
      "[6.2998176e-06]\n",
      "Energy of reidual density : \n",
      "[1.59459263e-07]\n",
      "----------------------------------------------------------------------------------------------------\n",
      "   Embed: 6       1.190369465832E+01      -6.866109E-03   1.59E-07  6.30E-06  2.157653E+00    \n",
      "----------------------------------------------------------------------------------------------------\n",
      "**Charge of global system: 8.000000000000009\n",
      "******Ext energy of 0 driver : 10.089217621572942\n",
      "Norm of reidual density : \n",
      "[4.87354256e-07]\n",
      "Energy of reidual density : \n",
      "[1.28642457e-09]\n",
      "#### Subsytem Density Optimization Converged (Potential) In 7 Iterations ####\n",
      "-------------------------------Energy information-------------------------------\n",
      "        EXT0 energy:  2.745394693700943E+02 (eV) =  1.008914045467072E+01 (a.u.)\n",
      "     HARTREE energy:  4.676949599760759E+02 (eV) =  1.718747454406727E+01 (a.u.)\n",
      "          II energy:  7.912533921589009E+01 (eV) =  2.907802884241825E+00 (a.u.)\n",
      "          KE energy:  2.915205353539225E+02 (eV) =  1.071318318402385E+01 (a.u.)\n",
      "      PSEUDO energy: -1.205682028065980E+03 (eV) = -4.430800187943751E+01 (a.u.)\n",
      "          XC energy: -1.141984719557197E+02 (eV) = -4.196716872490383E+00 (a.u.)\n",
      "       SUB_0 energy: -2.575146320026556E+02 (eV) = -9.463489156472624E+00 (a.u.)\n",
      "       TOTAL energy: -4.645148281083722E+02 (eV) = -1.707060684139685E+01 (a.u.)\n",
      "--------------------------------------------------------------------------------\n"
     ]
    }
   ],
   "source": [
    "opt.attach(print_density, interval=1)\n",
    "opt.attach(print_density_driver_all, interval=2)\n",
    "opt.attach(print_ext_energy, interval=1)\n",
    "opt.optimize()"
   ]
  }
 ],
 "metadata": {
  "kernelspec": {
   "display_name": "Python 3",
   "language": "python",
   "name": "python3"
  },
  "language_info": {
   "codemirror_mode": {
    "name": "ipython",
    "version": 3
   },
   "file_extension": ".py",
   "mimetype": "text/x-python",
   "name": "python",
   "nbconvert_exporter": "python",
   "pygments_lexer": "ipython3",
   "version": "3.8.10"
  },
  "varInspector": {
   "cols": {
    "lenName": 16,
    "lenType": 16,
    "lenVar": 40
   },
   "kernels_config": {
    "python": {
     "delete_cmd_postfix": "",
     "delete_cmd_prefix": "del ",
     "library": "var_list.py",
     "varRefreshCmd": "print(var_dic_list())"
    },
    "r": {
     "delete_cmd_postfix": ") ",
     "delete_cmd_prefix": "rm(",
     "library": "var_list.r",
     "varRefreshCmd": "cat(var_dic_list()) "
    }
   },
   "types_to_exclude": [
    "module",
    "function",
    "builtin_function_or_method",
    "instance",
    "_Feature"
   ],
   "window_display": false
  }
 },
 "nbformat": 4,
 "nbformat_minor": 4
}
